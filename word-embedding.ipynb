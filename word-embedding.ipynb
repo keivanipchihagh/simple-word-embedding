{
 "cells": [
  {
   "cell_type": "code",
   "execution_count": 11,
   "id": "78560d8b-e096-4fab-b411-e73866f3d77a",
   "metadata": {},
   "outputs": [],
   "source": [
    "import string\n",
    "import numpy as np\n",
    "import matplotlib.pyplot as plt\n",
    "\n",
    "# Spacy\n",
    "import spacy\n",
    "nlp = spacy.load('en_core_web_sm')\n",
    "\n",
    "# Keras\n",
    "from keras.models import Sequential\n",
    "from keras.layers import Dense"
   ]
  },
  {
   "cell_type": "code",
   "execution_count": 12,
   "metadata": {},
   "outputs": [
    {
     "name": "stdout",
     "output_type": "stream",
     "text": [
      "Number of words:  75\n"
     ]
    }
   ],
   "source": [
    "# Read the data\n",
    "text = ''\n",
    "with open('data/royal-family.txt', 'r') as f:\n",
    "    text = f.read()\n",
    "\n",
    "print('Number of words: ', len(text.split()))"
   ]
  },
  {
   "cell_type": "code",
   "execution_count": 13,
   "metadata": {},
   "outputs": [],
   "source": [
    "# Initial configurations and properties\n",
    "window_size = 5 # Must be odd\n",
    "embedding_dim = 2\n",
    "stop_words = nlp.Defaults.stop_words"
   ]
  },
  {
   "cell_type": "code",
   "execution_count": 14,
   "metadata": {},
   "outputs": [],
   "source": [
    "\n",
    "# Function to remove punctuation\n",
    "def remove_punctutation(text):\n",
    "    return text.translate(str.maketrans('', '', string.punctuation))\n",
    "\n",
    "# Function to remove stop words\n",
    "def remove_stopwords(text):\n",
    "    return ' '.join([word for word in text.split() if word not in stop_words])\n",
    "\n",
    "\n",
    "# Do a little preprocessing\n",
    "text = remove_punctutation(text)\n",
    "text = remove_stopwords(text)\n",
    "    "
   ]
  },
  {
   "cell_type": "code",
   "execution_count": 15,
   "metadata": {},
   "outputs": [],
   "source": [
    "# Create vocabulary\n",
    "words = set(text.split())\n",
    "vocab = {word: i for i, word in enumerate(words)}\n"
   ]
  },
  {
   "cell_type": "code",
   "execution_count": 16,
   "metadata": {},
   "outputs": [],
   "source": [
    "# Create windows\n",
    "windows = []\n",
    "words = text.split()\n",
    "\n",
    "bin = window_size // 2\n",
    "for i in range(len(words)):    \n",
    "\n",
    "    # left\n",
    "    for j in range(i - bin, i):\n",
    "        if j >= 0:\n",
    "            windows.append([words[j], words[bin]])\n",
    "\n",
    "    # right\n",
    "    for j in range(i + 1, i + bin + 1):\n",
    "        if j < len(words):\n",
    "            windows.append([words[bin], words[j]])"
   ]
  },
  {
   "cell_type": "code",
   "execution_count": 17,
   "metadata": {},
   "outputs": [],
   "source": [
    "# One hot encoding\n",
    "def one_hot_encoding(token):\n",
    "    \n",
    "    token_vector = np.zeros(len(vocab))\n",
    "    token_vector[vocab[token]] = 1\n",
    "\n",
    "    return token_vector\n",
    "\n",
    "X, Y = [], []\n",
    "\n",
    "for window in windows:\n",
    "\n",
    "    # Encode\n",
    "    X_one_hot = one_hot_encoding(window[0])\n",
    "    Y_one_hot = one_hot_encoding(window[1])\n",
    "\n",
    "    # Append to corresponding lists\n",
    "    X.append(X_one_hot)\n",
    "    Y.append(Y_one_hot)\n",
    "\n",
    "# Conver to numpy arrays\n",
    "X = np.array(X)\n",
    "Y = np.array(Y)"
   ]
  },
  {
   "cell_type": "code",
   "execution_count": 18,
   "metadata": {},
   "outputs": [
    {
     "data": {
      "text/plain": [
       "<keras.callbacks.History at 0x19e1b82f160>"
      ]
     },
     "execution_count": 18,
     "metadata": {},
     "output_type": "execute_result"
    }
   ],
   "source": [
    "# Build the model\n",
    "model = Sequential()\n",
    "model.add(Dense(units = embedding_dim, input_dim = X.shape[1], activation = 'linear'))\n",
    "model.add(Dense(units = Y.shape[1], activation = 'softmax'))\n",
    "\n",
    "# Compile the model\n",
    "model.compile(\n",
    "    loss = 'categorical_crossentropy',\n",
    "    optimizer = 'adam',\n",
    "    metrics = ['accuracy']\n",
    ")\n",
    "\n",
    "# Train the model\n",
    "model.fit(\n",
    "    X,\n",
    "    Y,\n",
    "    epochs = 100,\n",
    "    batch_size = 256,\n",
    "    verbose = 0\n",
    ")\n",
    "\n",
    "# model.save_weights('embedding_dict.h5')"
   ]
  },
  {
   "cell_type": "code",
   "execution_count": 19,
   "metadata": {},
   "outputs": [],
   "source": [
    "# Get word embedding vectors\n",
    "weights = model.get_weights()[0]\n",
    "\n",
    "# Create Embedding dictionary\n",
    "embedding_dict = {}\n",
    "for word in words: \n",
    "    embedding_dict.update({word: weights[vocab.get(word)]})"
   ]
  },
  {
   "cell_type": "code",
   "execution_count": 20,
   "metadata": {},
   "outputs": [
    {
     "data": {
      "image/png": "[encoded data removed]",
      "text/plain": [
       "<Figure size 720x720 with 1 Axes>"
      ]
     },
     "metadata": {
      "needs_background": "light"
     },
     "output_type": "display_data"
    }
   ],
   "source": [
    "# Plot the model pari-wise\n",
    "plt.figure(figsize = (10, 10))\n",
    "\n",
    "for word in list(vocab.keys()):\n",
    "  coord = embedding_dict.get(word)\n",
    "\n",
    "  plt.scatter(coord[0], coord[1])\n",
    "  plt.annotate(word, (coord[0], coord[1]))"
   ]
  }
 ],
 "metadata": {
  "interpreter": {
   "hash": "3b669719a6625501c528681a8757d34048d37698e5e0a8a7d04717e22ecaad72"
  },
  "kernelspec": {
   "display_name": "Python 3.9.6 64-bit",
   "name": "python3"
  },
  "language_info": {
   "codemirror_mode": {
    "name": "ipython",
    "version": 3
   },
   "file_extension": ".py",
   "mimetype": "text/x-python",
   "name": "python",
   "nbconvert_exporter": "python",
   "pygments_lexer": "ipython3",
   "version": "3.9.6"
  }
 },
 "nbformat": 4,
 "nbformat_minor": 5
}
