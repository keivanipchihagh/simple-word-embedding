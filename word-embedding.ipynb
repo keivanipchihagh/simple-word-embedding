{
 "cells": [
  {
   "cell_type": "code",
   "execution_count": 79,
   "id": "78560d8b-e096-4fab-b411-e73866f3d77a",
   "metadata": {},
   "outputs": [],
   "source": [
    "# Import libraries\n",
    "import string\n",
    "import numpy as np\n",
    "import pandas as pd\n",
    "import matplotlib.pyplot as plt\n",
    "\n",
    "from keras.models import Sequential\n",
    "from keras.layers import Dense"
   ]
  },
  {
   "cell_type": "code",
   "execution_count": 78,
   "metadata": {},
   "outputs": [],
   "source": [
    "# Initial configurations and properties\n",
    "window_size = 2\n",
    "embedding_dim = 2\n",
    "stop_words = ['the', 'a', 'and', 'is', 'be', 'will']"
   ]
  },
  {
   "cell_type": "code",
   "execution_count": 61,
   "metadata": {},
   "outputs": [],
   "source": [
    "\n",
    "# Function to remove punctuation\n",
    "def remove_punctutation(text):\n",
    "    return text.translate(str.maketrans('', '', string.punctuation))\n",
    "\n",
    "# Function to remove stop words\n",
    "def remove_stopwords(text):\n",
    "    return ' '.join([word for word in text.split() if word not in stop_words])"
   ]
  },
  {
   "cell_type": "code",
   "execution_count": 62,
   "metadata": {},
   "outputs": [],
   "source": [
    "df = pd.read_csv('data/royal-family.csv')\n",
    "\n",
    "# Apply preprocesses\n",
    "df['text'] = df['text'].apply(remove_punctutation)\n",
    "df['text'] = df['text'].apply(remove_stopwords)"
   ]
  },
  {
   "cell_type": "code",
   "execution_count": 63,
   "metadata": {},
   "outputs": [],
   "source": [
    "# Create vocabulary\n",
    "words = set(' '.join(df['text']).split())\n",
    "vocab = {word: i for i, word in enumerate(words)}\n"
   ]
  },
  {
   "cell_type": "code",
   "execution_count": 64,
   "metadata": {},
   "outputs": [],
   "source": [
    "# Create windowed contexts\n",
    "contexts = []\n",
    "\n",
    "for text in df['text']:\n",
    "    \n",
    "    for i in range(0, len(text.split()) - window_size):\n",
    "        context = text.split()[i:i + window_size]\n",
    "        contexts.append(context)"
   ]
  },
  {
   "cell_type": "code",
   "execution_count": 76,
   "metadata": {},
   "outputs": [],
   "source": [
    "# One hot encoding\n",
    "def one_hot_encoding(token):\n",
    "    \n",
    "    token_vector = np.zeros(len(vocab))\n",
    "    token_vector[vocab[token]] = 1\n",
    "\n",
    "    return token_vector\n",
    "\n",
    "X, Y = [], []\n",
    "\n",
    "for context in contexts:\n",
    "\n",
    "    # Encode\n",
    "    X_one_hot = one_hot_encoding(context[0])\n",
    "    Y_one_hot = one_hot_encoding(context[1])\n",
    "\n",
    "    # Append to corresponding lists\n",
    "    X.append(X_one_hot)\n",
    "    Y.append(Y_one_hot)\n",
    "\n",
    "# Conver to numpy arrays\n",
    "X = np.array(X)\n",
    "Y = np.array(Y)"
   ]
  },
  {
   "cell_type": "code",
   "execution_count": 87,
   "metadata": {},
   "outputs": [
    {
     "data": {
      "text/plain": [
       "<keras.callbacks.History at 0x1f365b2ff70>"
      ]
     },
     "execution_count": 87,
     "metadata": {},
     "output_type": "execute_result"
    }
   ],
   "source": [
    "# Build the model\n",
    "model = Sequential()\n",
    "model.add(Dense(units = embedding_dim, input_dim = X.shape[1], activation = 'linear'))\n",
    "model.add(Dense(units = Y.shape[1], activation = 'softmax'))\n",
    "\n",
    "# Compile the model\n",
    "model.compile(\n",
    "    loss = 'categorical_crossentropy',\n",
    "    optimizer = 'adam',\n",
    "    metrics = ['accuracy']\n",
    ")\n",
    "\n",
    "# Train the model\n",
    "model.fit(\n",
    "    X,\n",
    "    Y,\n",
    "    epochs = 1000,\n",
    "    batch_size = 256,\n",
    "    verbose = 0\n",
    ")"
   ]
  },
  {
   "cell_type": "code",
   "execution_count": 88,
   "metadata": {},
   "outputs": [],
   "source": [
    "# Get word embedding vectors\n",
    "weights = model.get_weights()[0]\n",
    "\n",
    "# Create Embedding dictionary\n",
    "embedding_dict = {}\n",
    "for word in words: \n",
    "    embedding_dict.update({word: weights[vocab.get(word)]})"
   ]
  },
  {
   "cell_type": "code",
   "execution_count": 90,
   "metadata": {},
   "outputs": [
    {
     "data": {
      "image/png": "[encoded data removed]",
      "text/plain": [
       "<Figure size 720x720 with 1 Axes>"
      ]
     },
     "metadata": {
      "needs_background": "light"
     },
     "output_type": "display_data"
    }
   ],
   "source": [
    "# Plot the model pari-wise\n",
    "plt.figure(figsize = (10, 10))\n",
    "\n",
    "for word in list(vocab.keys()):\n",
    "  coord = embedding_dict.get(word)\n",
    "\n",
    "  plt.scatter(coord[0], coord[1])\n",
    "  plt.annotate(word, (coord[0], coord[1]))"
   ]
  },
  {
   "cell_type": "code",
   "execution_count": null,
   "metadata": {},
   "outputs": [],
   "source": []
  }
 ],
 "metadata": {
  "interpreter": {
   "hash": "3b669719a6625501c528681a8757d34048d37698e5e0a8a7d04717e22ecaad72"
  },
  "kernelspec": {
   "display_name": "Python 3.9.6 64-bit",
   "name": "python3"
  },
  "language_info": {
   "codemirror_mode": {
    "name": "ipython",
    "version": 3
   },
   "file_extension": ".py",
   "mimetype": "text/x-python",
   "name": "python",
   "nbconvert_exporter": "python",
   "pygments_lexer": "ipython3",
   "version": "3.9.6"
  }
 },
 "nbformat": 4,
 "nbformat_minor": 5
}
